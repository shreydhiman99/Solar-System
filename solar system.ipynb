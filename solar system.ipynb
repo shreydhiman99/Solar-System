
   "source": [
    "from vpython import *\n",
    "scene.lights[0].visible=False\n",
    "sun=sphere(color=vector(1,1,0),pos=vec(0,0,0),radius=3, shininess=0, emissive=True)\n",
    "earth=sphere(color=vector(0,0,1),pos=vec(10,0,0),radius=1, shininess=1, make_trail=True)\n",
    "moon=sphere(color=vector(0.5,0.5,0.5),pos=vec(12,0,0),radius=0.5, shininess=11, make_trail=True)\n",
    "lamp=local_light(pos=vector(0,0,0), color=vector(1,1,1) )\n",
    "mercury=sphere(color=vector(0.5,0.5,0.5),pos=vec(5,0,0),radius=0.6, shininess=11, make_trail=True)\n",
    "venus=sphere(color=vector(2,1.5,0),pos=vec(7,0,0),radus=1.2, shininess=9, make_trail=True)\n",
    "mars=sphere(color=vector(3,1,0),pos=vec(14,0,0),radius=0.8, shininess=8, make_trail=True)\n",
    "#mars_moon1(color=vector(0.5,0.5,0.5),pos=vec(17,0,0),radius=0.2, shininess=11, make_trail=True)\n",
    "#mars_moon2(color=vector(0.5,0.5,0.5),pos=vec(17,0,0),radius=0.2, shininess=11, make_trail=True)\n",
    "mercury.make_trail=True\n",
    "venus.make_trail=True\n",
    "earth.make_trail=True\n",
    "moon.make_trail=False\n",
    "#mars_moon1.make_trail=False\n",
    "#mars_moon2.make_trail=False\n",
    "framerate=50\n",
    "mercuryOmega=2*1.14159/87\n",
    "venusOmega=2*1.14159/243\n",
    "earthOmega=2*1.14159/365\n",
    "marsOmega=2*1.14159/687\n",
    "#mars_moon1Angle=0\n",
    "#mars_moon2Angle=10\n",
    "moonAngle=0\n",
    "moonOmega=2*1.14159/28\n",
    "#mars_moon1Omega=2*1.14159/27\n",
    "#mars_moon2Omega=2*1.14159/28\n",
    "while True:\n",
    "    rate(framerate)\n",
    "    mercury.rotate(angle=mercuryOmega, axis=vector(0,1,0),origin=vector(0,0,0))\n",
    "    venus.rotate(angle=venusOmega, axis=vector(0,1,0),origin=vector(0,0,0))\n",
    "    earth.rotate(angle=earthOmega, axis=vector(0,1,0), origin=vector(0,0,0))\n",
    "    mars.rotate(angle=marsOmega, axis=vector(0,1,0), origin=vector(0,0,0))\n",
    "\n",
    "    moonAngle+=moonOmega\n",
    " #   mars_moon1Angle+=mars_moon1Omega\n",
    "  #  mars_moon2Angle+=mars_moon2Omega\n",
    "\n",
    "    moon.pos=earth.pos + vector(2,0,0)\n",
    "    moon.rotate(angle=moonAngle, axis=vector(0,1,0), origin=earth.pos)\n",
    "  #  mars_moon1.pos + vector(2,0,0)\n",
    " #   mars_moon2.pos + vector(2,0,0)\n",
    "   # mars_moon1.rotate(angle=mars_moon1Angle, axis=vector(0,1,0), origin=mars.pos)\n",
    "#    mars_moon2.rotate(angle=mars_moon2Angle, axis=vector(0,1,0), origin=mars.pos)\n"
   ]
  },
  {
   "cell_type": "code",
   "execution_count": null,
   "metadata": {},
   "outputs": [],
   "source": []
  },
  {
   "cell_type": "code",
   "execution_count": null,
   "metadata": {},
   "outputs": [],
   "source": []
  }
 ],
 "metadata": {
  "kernelspec": {
   "display_name": "VPython",
   "language": "python",
   "name": "vpython"
  },
  "language_info": {
   "codemirror_mode": {
    "name": "ipython",
    "version": 3
   },
   "file_extension": ".py",
   "mimetype": "text/x-python",
   "name": "python",
   "nbconvert_exporter": "python",
   "pygments_lexer": "ipython3",
   "version": "3.7.1"
  }
 },
 "nbformat": 4,
 "nbformat_minor": 2
}
